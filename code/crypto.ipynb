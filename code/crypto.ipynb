{
 "cells": [
  {
   "cell_type": "code",
   "execution_count": 12,
   "metadata": {},
   "outputs": [
    {
     "data": {
      "text/plain": [
       "multiply (generic function with 2 methods)"
      ]
     },
     "execution_count": 12,
     "metadata": {},
     "output_type": "execute_result"
    }
   ],
   "source": [
    "# Addition (with BigInt and Int)\n",
    "add(p::BigInt, a::BigInt, b::BigInt) = (a + b) % p\n",
    "add(p, a, b) = add(BigInt(p), BigInt(a), BigInt(b))\n",
    "\n",
    "# Subtraction\n",
    "subtract(p::BigInt, a::BigInt, b::BigInt) = (a - b) % p\n",
    "subtract(p, a, b) = subtract(BigInt(p), BigInt(a), BigInt(b))\n",
    "\n",
    "# Multiplication\n",
    "multiply(p::BigInt, a::BigInt, b::BigInt) = (a * b) % p\n",
    "multiply(p, a, b) = multiply(BigInt(p), BigInt(a), BigInt(b))"
   ]
  },
  {
   "cell_type": "code",
   "execution_count": null,
   "metadata": {},
   "outputs": [],
   "source": [
    "add(BigInt(7), BigInt(5), BigInt(4))"
   ]
  },
  {
   "cell_type": "code",
   "execution_count": 13,
   "metadata": {},
   "outputs": [
    {
     "data": {
      "text/plain": [
       "gcd (generic function with 2 methods)"
      ]
     },
     "execution_count": 13,
     "metadata": {},
     "output_type": "execute_result"
    }
   ],
   "source": [
    "function gcd(a::BigInt, b::BigInt)\n",
    "    r::BigInt = a % b\n",
    "    if r == 0\n",
    "        return b\n",
    "    end\n",
    "    return gcd(b, r)\n",
    "end\n",
    "gcd(a, b) = gcd(BigInt(a), BigInt(b))"
   ]
  },
  {
   "cell_type": "code",
   "execution_count": null,
   "metadata": {},
   "outputs": [],
   "source": [
    "gcd(938671, 531489)"
   ]
  },
  {
   "cell_type": "code",
   "execution_count": 14,
   "metadata": {},
   "outputs": [
    {
     "data": {
      "text/plain": [
       "extended_euclidian_alg (generic function with 2 methods)"
      ]
     },
     "execution_count": 14,
     "metadata": {},
     "output_type": "execute_result"
    }
   ],
   "source": [
    "# Extended Euclidian Algorithm\n",
    "function extended_euclidian_alg(a::BigInt, b::BigInt)\n",
    "    q = BigInt[]\n",
    "    r::BigInt = a % b\n",
    "    push!(q, div(a, b))\n",
    "    while r != 0\n",
    "        a = b\n",
    "        b = r\n",
    "        r = a % b\n",
    "        push!(q, div(a, b))\n",
    "    end\n",
    "    return q\n",
    "end\n",
    "extended_euclidian_alg(a::Int64, b::Int64) = extended_euclidian_alg(BigInt(a), BigInt(b))"
   ]
  },
  {
   "cell_type": "code",
   "execution_count": null,
   "metadata": {},
   "outputs": [],
   "source": [
    "size(extended_euclidian_alg(73, 25))[1]"
   ]
  },
  {
   "cell_type": "code",
   "execution_count": 15,
   "metadata": {},
   "outputs": [
    {
     "data": {
      "text/plain": [
       "solveLDE (generic function with 2 methods)"
      ]
     },
     "execution_count": 15,
     "metadata": {},
     "output_type": "execute_result"
    }
   ],
   "source": [
    "# Solving Linear Diophantine Equations\n",
    "function solveLDE(a::BigInt, b::BigInt)\n",
    "    P_n = BigInt(0)\n",
    "    P_n_plus_one = BigInt(1)\n",
    "    Q_n = BigInt(1)\n",
    "    Q_n_plus_one = BigInt(0)\n",
    "    q = extended_euclidian_alg(a, b)\n",
    "    n = size(q)[1]\n",
    "    parity = n % 2\n",
    "    queue = 1\n",
    "    while queue < n\n",
    "        temp_P = P_n_plus_one\n",
    "        next = q[queue]\n",
    "        P_n_plus_one = P_n_plus_one * next + P_n\n",
    "        P_n = temp_P\n",
    "        temp_Q = Q_n_plus_one\n",
    "        Q_n_plus_one = Q_n_plus_one * next + Q_n\n",
    "        Q_n = temp_Q\n",
    "        queue += 1\n",
    "    end\n",
    "    out = [P_n_plus_one Q_n_plus_one parity]\n",
    "    return out\n",
    "end\n",
    "\n",
    "solveLDE(a, b) = solveLDE(BigInt(a), BigInt(b))"
   ]
  },
  {
   "cell_type": "code",
   "execution_count": null,
   "metadata": {},
   "outputs": [],
   "source": [
    "solveLDE(73, 25)"
   ]
  },
  {
   "cell_type": "code",
   "execution_count": 16,
   "metadata": {},
   "outputs": [
    {
     "data": {
      "text/plain": [
       "inverse (generic function with 1 method)"
      ]
     },
     "execution_count": 16,
     "metadata": {},
     "output_type": "execute_result"
    }
   ],
   "source": [
    "# Inverses\n",
    "function inverse(p::BigInt, a::BigInt)\n",
    "    solutions = solveLDE(p, a)\n",
    "    return solutions[3] == 0 ? (p - solutions[1]) : solutions[1]\n",
    "end"
   ]
  },
  {
   "cell_type": "code",
   "execution_count": null,
   "metadata": {},
   "outputs": [],
   "source": [
    "inverse(BigInt(123456789011), BigInt(2))"
   ]
  },
  {
   "cell_type": "code",
   "execution_count": 17,
   "metadata": {},
   "outputs": [
    {
     "data": {
      "text/plain": [
       "binary_representation (generic function with 1 method)"
      ]
     },
     "execution_count": 17,
     "metadata": {},
     "output_type": "execute_result"
    }
   ],
   "source": [
    "# Binary Representation (for fast powering algorithm)\n",
    "function binary_representation(a::BigInt)\n",
    "    out = Bool[]\n",
    "    while a != 0\n",
    "        next_bit = (a % 2) != 0\n",
    "        pushfirst!(out, next_bit)\n",
    "        a = div(a, 2)\n",
    "    end\n",
    "    return out\n",
    "end"
   ]
  },
  {
   "cell_type": "code",
   "execution_count": null,
   "metadata": {},
   "outputs": [],
   "source": [
    "binary_representation(BigInt(123456789011))"
   ]
  },
  {
   "cell_type": "code",
   "execution_count": 18,
   "metadata": {},
   "outputs": [
    {
     "data": {
      "text/plain": [
       "power (generic function with 1 method)"
      ]
     },
     "execution_count": 18,
     "metadata": {},
     "output_type": "execute_result"
    }
   ],
   "source": [
    "# Fast powering algorithm\n",
    "function power(p::BigInt, a::BigInt, pow::BigInt)\n",
    "    r = BigInt(1)\n",
    "    for digit in binary_representation(pow)\n",
    "        r = multiply(p, r, r)\n",
    "        if digit\n",
    "            r = multiply(p, r, a)\n",
    "        end\n",
    "    end\n",
    "    return r\n",
    "end"
   ]
  },
  {
   "cell_type": "code",
   "execution_count": 19,
   "metadata": {},
   "outputs": [
    {
     "data": {
      "text/plain": [
       "miller_rabin (generic function with 1 method)"
      ]
     },
     "execution_count": 19,
     "metadata": {},
     "output_type": "execute_result"
    }
   ],
   "source": [
    "# Compositeness checker\n",
    "function miller_rabin(p::BigInt)\n",
    "    a::BigInt = rand(Int) % p\n",
    "    if a == 1\n",
    "        a = BigInt(rand(Int) % p)\n",
    "    end\n",
    "    k::BigInt = 0\n",
    "    q::BigInt = p - 1\n",
    "    while (q % 2 != 0)\n",
    "        q = q % 2\n",
    "        k += 1\n",
    "    end\n",
    "    a = BigInt(power(p, a, q))\n",
    "    if a == 1\n",
    "        return false\n",
    "    end\n",
    "    for i in 1:k\n",
    "        if a == p - 1\n",
    "            return false\n",
    "        end\n",
    "        a = multiply(p, a, a)\n",
    "    end\n",
    "    return true\n",
    "end"
   ]
  },
  {
   "cell_type": "code",
   "execution_count": 20,
   "metadata": {},
   "outputs": [
    {
     "data": {
      "text/plain": [
       "is_prime (generic function with 1 method)"
      ]
     },
     "execution_count": 20,
     "metadata": {},
     "output_type": "execute_result"
    }
   ],
   "source": [
    "function is_prime(p::BigInt)\n",
    "    if p % 2 == 0\n",
    "        return false\n",
    "    end\n",
    "    for i in 1:30\n",
    "            if miller_rabin(p)\n",
    "                return false\n",
    "            end\n",
    "        end\n",
    "    return true\n",
    "end"
   ]
  },
  {
   "cell_type": "code",
   "execution_count": 131,
   "metadata": {},
   "outputs": [
    {
     "data": {
      "text/plain": [
       "true"
      ]
     },
     "execution_count": 131,
     "metadata": {},
     "output_type": "execute_result"
    }
   ],
   "source": [
    "is_prime(BigInt(123456789011))"
   ]
  },
  {
   "cell_type": "code",
   "execution_count": 111,
   "metadata": {},
   "outputs": [
    {
     "name": "stdout",
     "output_type": "stream",
     "text": [
      "1"
     ]
    }
   ],
   "source": [
    "print(BigInt(2)^BigInt(1) - BigInt(1))"
   ]
  },
  {
   "cell_type": "code",
   "execution_count": 21,
   "metadata": {},
   "outputs": [
    {
     "data": {
      "text/plain": [
       "candidate (generic function with 1 method)"
      ]
     },
     "execution_count": 21,
     "metadata": {},
     "output_type": "execute_result"
    }
   ],
   "source": [
    "function candidate()\n",
    "    primes = [2 3 5 7 11 13 17 19 23 29 31 37 41 43 47 53 59 61 67 71 73 79 83 89 97 101 103 107 109 113 127 131 137 139 149 151 157 163 167 173 181 191 193 197 199 211 223 227 229 233 239 241 251 257 263 269 271 277 281 283 293 307 311 313 317 331 337 347 349 353 359 367 373 379 383 389 397 401 409 419 421 431 433 439 443 449 457 461 463 467 479 487 491 499]\n",
    "    multiple::BigInt = multiply(primes)\n",
    "    rand_add::BigInt = multiply(primes)\n",
    "    while (gcd(multiple, rand_add) != 1)\n",
    "        rand_add = BigInt(rand(UInt128) * BigInt(2)^BigInt(128) + rand(UInt128)) % multiple\n",
    "    end\n",
    "    k::BigInt = rand(UInt128)\n",
    "    return BigInt((multiple * k) + rand_add)\n",
    "end"
   ]
  },
  {
   "cell_type": "code",
   "execution_count": 22,
   "metadata": {},
   "outputs": [
    {
     "data": {
      "text/plain": [
       "multiply (generic function with 3 methods)"
      ]
     },
     "execution_count": 22,
     "metadata": {},
     "output_type": "execute_result"
    }
   ],
   "source": [
    "function multiply(a)\n",
    "    sum::BigInt = BigInt(1)\n",
    "    for num in a\n",
    "        sum = sum * BigInt(num)\n",
    "    end\n",
    "    return sum\n",
    "end"
   ]
  },
  {
   "cell_type": "code",
   "execution_count": 172,
   "metadata": {},
   "outputs": [
    {
     "data": {
      "text/plain": [
       "6"
      ]
     },
     "execution_count": 172,
     "metadata": {},
     "output_type": "execute_result"
    }
   ],
   "source": []
  },
  {
   "cell_type": "code",
   "execution_count": 214,
   "metadata": {},
   "outputs": [
    {
     "data": {
      "text/plain": [
       "179489856409037233026613379316806886542291115903253590478693466265089945502492942676505007971432903131187112931141732817407592628265100911612054806862460378181451539367837045473112990670027550731562148772654287771898100592382725562796956328499"
      ]
     },
     "execution_count": 214,
     "metadata": {},
     "output_type": "execute_result"
    }
   ],
   "source": [
    "candidate()"
   ]
  },
  {
   "cell_type": "code",
   "execution_count": null,
   "metadata": {},
   "outputs": [],
   "source": []
  },
  {
   "cell_type": "code",
   "execution_count": 23,
   "metadata": {},
   "outputs": [
    {
     "data": {
      "text/plain": [
       "find_prime (generic function with 1 method)"
      ]
     },
     "execution_count": 23,
     "metadata": {},
     "output_type": "execute_result"
    }
   ],
   "source": [
    "function find_prime()\n",
    "    while true\n",
    "        can::BigInt = candidate()\n",
    "        if is_prime(can)\n",
    "            return can\n",
    "        end\n",
    "    end\n",
    "end"
   ]
  },
  {
   "cell_type": "code",
   "execution_count": 208,
   "metadata": {},
   "outputs": [
    {
     "data": {
      "text/plain": [
       "128146951653788751886753005646255345771951668323875954627677761081464570014422741011339499736188451456279352632717462030314842726686214598969671464471632832001754689893036750817078138466816720870182756861178271606506607348860937106980925043573"
      ]
     },
     "execution_count": 208,
     "metadata": {},
     "output_type": "execute_result"
    }
   ],
   "source": [
    "find_prime()"
   ]
  },
  {
   "cell_type": "code",
   "execution_count": 24,
   "metadata": {},
   "outputs": [
    {
     "data": {
      "text/plain": [
       "marsenne (generic function with 1 method)"
      ]
     },
     "execution_count": 24,
     "metadata": {},
     "output_type": "execute_result"
    }
   ],
   "source": [
    "function marsenne()\n",
    "    for i in 0:100000\n",
    "        pow = 2 * i + 1\n",
    "        if is_prime(BigInt(pow))\n",
    "            if is_prime(BigInt(2)^BigInt(pow) - 1)\n",
    "                println(pow)\n",
    "            end\n",
    "        end\n",
    "    end\n",
    "end"
   ]
  },
  {
   "cell_type": "code",
   "execution_count": 36,
   "metadata": {},
   "outputs": [
    {
     "data": {
      "text/plain": [
       "elgamal_decrypt (generic function with 1 method)"
      ]
     },
     "execution_count": 36,
     "metadata": {},
     "output_type": "execute_result"
    }
   ],
   "source": [
    "function elgamal_key(p::BigInt, g::BigInt)\n",
    "    print(\"p: \")\n",
    "    print(p)\n",
    "    print(\"\\ng: \")\n",
    "    print(g)\n",
    "    a::BigInt = rand(big\"2\":p)\n",
    "    print(\"\\na: \")\n",
    "    print(a)\n",
    "    public = power(p, g, a)\n",
    "    print(\"\\nA: \")\n",
    "    print(public)\n",
    "end\n",
    "\n",
    "function elgamal_encrypt(p::BigInt, g::BigInt, A::BigInt, m::BigInt)\n",
    "    k::BigInt = rand(big\"2\":p)\n",
    "    c_1::BigInt = power(p, g, k)\n",
    "    print(\"C_1: \")\n",
    "    print(c_1)\n",
    "    c_2::BigInt = multiply(p, m, power(p, A, k))\n",
    "    print(\"\\nC_2: \")\n",
    "    print(c_2)\n",
    "end\n",
    "\n",
    "function elgamal_decrypt(p::BigInt, g::BigInt, a::BigInt, c_1::BigInt, c_2::BigInt)\n",
    "    x::BigInt = power(p, c_1, a)\n",
    "    m::BigInt = multiply(p, c_2, inverse(p, x))\n",
    "    print(\"m: \")\n",
    "    print(m)\n",
    "    return m\n",
    "end"
   ]
  },
  {
   "cell_type": "code",
   "execution_count": 34,
   "metadata": {},
   "outputs": [
    {
     "name": "stdout",
     "output_type": "stream",
     "text": [
      "a: 6548613102\n",
      "A: 121181169634"
     ]
    }
   ],
   "source": [
    "elgamal(BigInt(123456789011), BigInt(5))"
   ]
  },
  {
   "cell_type": "code",
   "execution_count": 37,
   "metadata": {},
   "outputs": [
    {
     "name": "stdout",
     "output_type": "stream",
     "text": [
      "C_1: 100443314121\n",
      "C_2: 117237156876"
     ]
    }
   ],
   "source": [
    "elgamal_encrypt(BigInt(123456789011), BigInt(5), BigInt(121181169634), BigInt(20020424))"
   ]
  },
  {
   "cell_type": "code",
   "execution_count": 38,
   "metadata": {},
   "outputs": [
    {
     "name": "stdout",
     "output_type": "stream",
     "text": [
      "m: 20020424"
     ]
    },
    {
     "data": {
      "text/plain": [
       "20020424"
      ]
     },
     "execution_count": 38,
     "metadata": {},
     "output_type": "execute_result"
    }
   ],
   "source": [
    "elgamal_decrypt(BigInt(123456789011), BigInt(5), BigInt(6548613102), BigInt(100443314121), BigInt(117237156876))"
   ]
  },
  {
   "cell_type": "code",
   "execution_count": null,
   "metadata": {},
   "outputs": [],
   "source": []
  }
 ],
 "metadata": {
  "kernelspec": {
   "display_name": "Julia 1.1.1",
   "language": "julia",
   "name": "julia-1.1"
  },
  "language_info": {
   "file_extension": ".jl",
   "mimetype": "application/julia",
   "name": "julia",
   "version": "1.1.1"
  },
  "pycharm": {
   "stem_cell": {
    "cell_type": "raw",
    "metadata": {
     "collapsed": false
    },
    "source": []
   }
  }
 },
 "nbformat": 4,
 "nbformat_minor": 2
}
